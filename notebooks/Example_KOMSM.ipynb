{
 "cells": [
  {
   "cell_type": "markdown",
   "metadata": {},
   "source": [
    "# Example for using Kernel OMSM  Model\n",
    " - sklearn-like API\n",
    "     - we can combine any sklearn tools like GridSearchCV with it"
   ]
  },
  {
   "cell_type": "code",
   "execution_count": 42,
   "metadata": {
    "collapsed": true
   },
   "outputs": [],
   "source": [
    "import sys, os\n",
    "sys.path.insert(0, os.pardir)"
   ]
  },
  {
   "cell_type": "code",
   "execution_count": 49,
   "metadata": {},
   "outputs": [],
   "source": [
    "import numpy as np\n",
    "\n",
    "n_origdim, n_subdim = 300, 10\n",
    "\n",
    "b = [np.random.randn(n_origdim) * 100 for i in range(6)]\n",
    "X = [np.random.randn(n_subdim, n_origdim) + b[0],\n",
    "     np.random.randn(n_subdim, n_origdim) + b[1],\n",
    "     np.random.randn(n_subdim, n_origdim) + b[2],\n",
    "     np.random.randn(n_subdim, n_origdim) + b[3],\n",
    "     np.random.randn(n_subdim, n_origdim) + b[4],\n",
    "     np.random.randn(n_subdim, n_origdim) + b[5],]\n",
    "\n",
    "y = np.array(['mouse', 'cow', 'tiger', 'rabit', 'dragon', 'snake'])\n",
    "test_X = [np.random.randn(n_subdim, n_origdim) + b[0],\n",
    "          np.random.randn(n_subdim, n_origdim) + b[2],\n",
    "          np.random.randn(n_subdim, n_origdim) + b[4]]\n",
    "test_y = np.array(['mouse', 'tiger', 'dragon'])"
   ]
  },
  {
   "cell_type": "markdown",
   "metadata": {},
   "source": [
    "### Parameter search with RandomizedSearchCV"
   ]
  },
  {
   "cell_type": "code",
   "execution_count": 60,
   "metadata": {
    "scrolled": true
   },
   "outputs": [],
   "source": [
    "from cvt.models import KernelOMSM, KernelMSM\n",
    "from sklearn.model_selection import RandomizedSearchCV\n",
    "from scipy.stats import randint as sp_randint\n",
    "\n",
    "komsm = KernelOMSM(n_subdims=8, sigma=0.1)\n",
    "komsm.fit(X, y)"
   ]
  },
  {
   "cell_type": "markdown",
   "metadata": {},
   "source": [
    "### Make prediction by best estimator"
   ]
  },
  {
   "cell_type": "code",
   "execution_count": 61,
   "metadata": {},
   "outputs": [
    {
     "name": "stdout",
     "output_type": "stream",
     "text": [
      "pred: ['mouse' 'tiger' 'dragon'], true: ['mouse' 'tiger' 'dragon'], accuracy: 1.0\n"
     ]
    },
    {
     "name": "stderr",
     "output_type": "stream",
     "text": [
      "/usr/local/Cellar/anyenv/HEAD-3cb8ad1/envs/pyenv/versions/anaconda3-5.0.0/lib/python3.6/site-packages/sklearn/preprocessing/label.py:151: DeprecationWarning: The truth value of an empty array is ambiguous. Returning False, but in future this will result in an error. Use `array.size > 0` to check that an array is not empty.\n",
      "  if diff:\n"
     ]
    }
   ],
   "source": [
    "pred = komsm.predict(test_X)\n",
    "print(f'pred: {pred}, true: {test_y}, accuracy: {(pred == test_y).mean()}')"
   ]
  },
  {
   "cell_type": "code",
   "execution_count": null,
   "metadata": {
    "collapsed": true
   },
   "outputs": [],
   "source": []
  },
  {
   "cell_type": "code",
   "execution_count": null,
   "metadata": {
    "collapsed": true
   },
   "outputs": [],
   "source": []
  },
  {
   "cell_type": "code",
   "execution_count": null,
   "metadata": {
    "collapsed": true
   },
   "outputs": [],
   "source": []
  },
  {
   "cell_type": "code",
   "execution_count": null,
   "metadata": {
    "collapsed": true
   },
   "outputs": [],
   "source": []
  }
 ],
 "metadata": {
  "kernelspec": {
   "display_name": "Python 3",
   "language": "python",
   "name": "python3"
  },
  "language_info": {
   "codemirror_mode": {
    "name": "ipython",
    "version": 3
   },
   "file_extension": ".py",
   "mimetype": "text/x-python",
   "name": "python",
   "nbconvert_exporter": "python",
   "pygments_lexer": "ipython3",
   "version": "3.6.2"
  }
 },
 "nbformat": 4,
 "nbformat_minor": 2
}
