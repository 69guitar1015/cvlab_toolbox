{
 "cells": [
  {
   "cell_type": "markdown",
   "metadata": {},
   "source": [
    "## Sample: How to use Kernel CMSM\n",
    "\n",
    "### Data Information\n",
    "- Generate 200 random data.\n",
    "- A generated data is 1000 dimension.\n",
    "- Data include 2 classes.\n",
    "- Each class has 100 data.\n",
    "\n",
    "\n",
    "### Data Architecture\n",
    "- One data vector (or matrix) must be included python's list. e.g. list[i] = [n_feature_dim, n_set]\n",
    "- Label indicates which class i-th element belongs. e.g. If label[i] = x, then list[i] belongs to x-class.\n",
    "    - Type of label is np.ndarray. Range of label's value is [0, n_class - 1].\n"
   ]
  },
  {
   "cell_type": "code",
   "execution_count": 1,
   "metadata": {
    "scrolled": true
   },
   "outputs": [
    {
     "name": "stdout",
     "output_type": "stream",
     "text": [
      "<class 'list'>\n",
      "200\n",
      "(1000, 1)\n",
      "[0 0 0 0 0 0 0 0 0 0 0 0 0 0 0 0 0 0 0 0 0 0 0 0 0 0 0 0 0 0 0 0 0 0 0 0 0\n",
      " 0 0 0 0 0 0 0 0 0 0 0 0 0 0 0 0 0 0 0 0 0 0 0 0 0 0 0 0 0 0 0 0 0 0 0 0 0\n",
      " 0 0 0 0 0 0 0 0 0 0 0 0 0 0 0 0 0 0 0 0 0 0 0 0 0 0 1 1 1 1 1 1 1 1 1 1 1\n",
      " 1 1 1 1 1 1 1 1 1 1 1 1 1 1 1 1 1 1 1 1 1 1 1 1 1 1 1 1 1 1 1 1 1 1 1 1 1\n",
      " 1 1 1 1 1 1 1 1 1 1 1 1 1 1 1 1 1 1 1 1 1 1 1 1 1 1 1 1 1 1 1 1 1 1 1 1 1\n",
      " 1 1 1 1 1 1 1 1 1 1 1 1 1 1 1]\n",
      "(200,)\n"
     ]
    }
   ],
   "source": [
    "#Data Generator\n",
    "import numpy as np\n",
    "import kernel_cmsm\n",
    "X = []\n",
    "label = np.asarray([])\n",
    "np.random.seed(1)\n",
    "\n",
    "for i in range(100):\n",
    "    x = np.random.rand(1000, 1) * 5\n",
    "    x[0:100] += np.random.rand(100, 1) * 2\n",
    "    x = x / np.linalg.norm(x)\n",
    "    X.append(x)\n",
    "    \n",
    "for i in range(100):\n",
    "    x = np.random.rand(1000, 1) * 5\n",
    "    x[0:100] -= np.random.rand(100, 1) * 2\n",
    "    x = x / np.linalg.norm(x)\n",
    "    X.append(x)\n",
    "\n",
    "cp = kernel_cmsm.Utils()\n",
    "label = cp.create_label(100, 2)\n",
    "\n",
    "\n",
    "print(type(X))\n",
    "print(len(X))        \n",
    "print(X[0].shape)  \n",
    "print(label)\n",
    "print(label.shape)            "
   ]
  },
  {
   "cell_type": "code",
   "execution_count": 2,
   "metadata": {},
   "outputs": [
    {
     "name": "stdout",
     "output_type": "stream",
     "text": [
      "Start learning\n",
      "Done\n"
     ]
    }
   ],
   "source": [
    "# Learning the KGDS\n",
    "import kernel_cmsm\n",
    "\n",
    "## Each class subspace dimension\n",
    "n_subdim = 20\n",
    "## KGDS dimension\n",
    "n_kgds_dim = 35\n",
    "## Kernel parameter\n",
    "n_sigma = np.sqrt(2)\n",
    "\n",
    "kcmsm = kernel_cmsm.KernelCMSM(n_subdim = n_subdim, n_sigma = n_sigma)\n",
    "print('Start learning')\n",
    "## If do not set kgds dimension, use all dimension.\n",
    "kcmsm.fit(X, label, n_kgds_dim)\n",
    "print('Done')\n",
    "\n"
   ]
  },
  {
   "cell_type": "code",
   "execution_count": 3,
   "metadata": {
    "scrolled": true
   },
   "outputs": [
    {
     "name": "stdout",
     "output_type": "stream",
     "text": [
      "Input data information:\n",
      "- Data type is <class 'numpy.ndarray'>\n",
      "- Data shape is (1000, 200) = (n_feature_dimension, n_samples)\n",
      "\n",
      "Plot histgram of projected data into 1-dimension KGDS\n"
     ]
    },
    {
     "data": {
      "image/png": "[encoded data removed]",
      "text/plain": [
       "<matplotlib.figure.Figure at 0x1e3baecbc50>"
      ]
     },
     "metadata": {},
     "output_type": "display_data"
    }
   ],
   "source": [
    "##### Project a vector data into KGDS #####\n",
    "##### Projected data must be included 2D-matrix ####\n",
    "\n",
    "import matplotlib.pyplot as plt\n",
    "%matplotlib inline \n",
    "\n",
    "data = np.hstack(X[:])\n",
    "print('Input data information:')\n",
    "print('- Data type is', type(data))\n",
    "print('- Data shape is', data.shape, '= (n_feature_dimension, n_samples)\\n')\n",
    "\n",
    "# KGDS projection of each data\n",
    "prj_data = kcmsm.vectors_gds_projection(data[:,1:50])\n",
    "prj_data2 = kcmsm.vectors_gds_projection(data[:,101:150])\n",
    "\n",
    "# plot projected data\n",
    "print('Plot histgram of projected data into 1-dimension KGDS')\n",
    "fig = plt.figure()\n",
    "ax = fig.add_subplot(1,1,1)\n",
    "\n",
    "ax.hist(prj_data[0, :], bins=50, normed=True, color='red');\n",
    "ax.hist(prj_data2[0, :], bins=50, normed=True, color='blue');"
   ]
  },
  {
   "cell_type": "code",
   "execution_count": 4,
   "metadata": {},
   "outputs": [
    {
     "name": "stdout",
     "output_type": "stream",
     "text": [
      "Similarity: [ 0.30997398  0.99490298]\n",
      "Similarity: [ 0.30997398  0.99490298]\n"
     ]
    }
   ],
   "source": [
    "###### Classify input dataset using KCMSM #####\n",
    "\n",
    "### Extract 2-class data \n",
    "input_dataset = data[:, 101:140]\n",
    "\n",
    "### Input subspace dimension.\n",
    "n_in_subdim = 5\n",
    "\n",
    "## Set KGDS dimension\n",
    "kcmsm.n_kgds_dim = 35\n",
    "\n",
    "##### Usage1:#####\n",
    "print('Similarity:', kcmsm.get_sim(input_dataset, n_in_subdim = n_in_subdim))\n",
    "\n",
    "##### Usage2:#####\n",
    "# KPCA\n",
    "Xin = np.transpose(input_dataset)\n",
    "Kin = kernel_cmsm.MathUtils.calc_kernelgram_matrix(Xin, Xin, sigma=kcmsm.n_sigma)\n",
    "[eig_val, eig_vec] = np.linalg.eigh(Kin)\n",
    "eig_id = np.argsort(eig_val)[::-1]\n",
    "eig_id = eig_id[0:n_in_subdim]\n",
    "eig_val = eig_val[eig_id]\n",
    "eig_vec = eig_vec[:,eig_id]\n",
    "subspace_basis = eig_vec / np.sqrt(eig_val)\n",
    "\n",
    "# get similarities\n",
    "print('Similarity:', kcmsm.get_sim(input_dataset, input_subspace = subspace_basis))\n"
   ]
  },
  {
   "cell_type": "code",
   "execution_count": 5,
   "metadata": {},
   "outputs": [
    {
     "name": "stdout",
     "output_type": "stream",
     "text": [
      "(35, 5)\n",
      "(35, 5)\n"
     ]
    }
   ],
   "source": [
    "#### Project input_subspace, which is generated by input_dataset, to KGDS ####\n",
    "\n",
    "input_dataset = data[:, 0:50];\n",
    "n_in_subdim = 5\n",
    "\n",
    "## Usage1:\n",
    "projected_subspace = kcmsm.subspaces_gds_projection(input_dataset, n_subdim = n_in_subdim)\n",
    "print(projected_subspace.shape)\n",
    "\n",
    "\n",
    "## Usage2:\n",
    "# KPCA\n",
    "Xin = np.transpose(input_dataset)\n",
    "Kin = kernel_cmsm.MathUtils.calc_kernelgram_matrix(Xin, Xin, sigma=kcmsm.n_sigma)\n",
    "[eig_val, eig_vec] = np.linalg.eigh(Kin)\n",
    "\n",
    "eig_id = np.argsort(eig_val)[::-1]\n",
    "eig_id = eig_id[0:n_in_subdim]\n",
    "eig_val = eig_val[eig_id]\n",
    "eig_vec = eig_vec[:,eig_id]\n",
    "subspace_basis = eig_vec / np.sqrt(eig_val)\n",
    "# Projection subspace into KGDS\n",
    "projected_subspace = kcmsm.subspaces_gds_projection(input_dataset, input_subspace = subspace_basis)\n",
    "print(projected_subspace.shape)\n",
    "\n"
   ]
  },
  {
   "cell_type": "code",
   "execution_count": 8,
   "metadata": {},
   "outputs": [
    {
     "name": "stdout",
     "output_type": "stream",
     "text": [
      "35\n",
      "(40, 1)\n"
     ]
    }
   ],
   "source": [
    "## Debug\n",
    "\n",
    "print(kcmsm.n_kgds_dim)\n",
    "print(kcmsm.vectors_gds_projection(data[:,1]).shape)"
   ]
  }
 ],
 "metadata": {
  "kernelspec": {
   "display_name": "cvlab..",
   "language": "python",
   "name": "cvlab"
  },
  "language_info": {
   "codemirror_mode": {
    "name": "ipython",
    "version": 3
   },
   "file_extension": ".py",
   "mimetype": "text/x-python",
   "name": "python",
   "nbconvert_exporter": "python",
   "pygments_lexer": "ipython3",
   "version": "3.6.2"
  }
 },
 "nbformat": 4,
 "nbformat_minor": 2
}
