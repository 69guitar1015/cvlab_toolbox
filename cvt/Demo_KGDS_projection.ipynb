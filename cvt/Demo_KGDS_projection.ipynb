{
 "cells": [
  {
   "cell_type": "markdown",
   "metadata": {},
   "source": [
    "## Sample: How to use Kernel CMSM\n",
    "\n",
    "### Data information\n",
    "- Generate 200 random data.\n",
    "- A generated data is 1000 dimension.\n",
    "- Data include 2 classes.\n",
    "- Each class has 100 data."
   ]
  },
  {
   "cell_type": "code",
   "execution_count": 2,
   "metadata": {
    "scrolled": true
   },
   "outputs": [
    {
     "name": "stdout",
     "output_type": "stream",
     "text": [
      "<class 'list'>\n",
      "200\n",
      "(1000, 1)\n",
      "[0 0 0 0 0 0 0 0 0 0 0 0 0 0 0 0 0 0 0 0 0 0 0 0 0 0 0 0 0 0 0 0 0 0 0 0 0\n",
      " 0 0 0 0 0 0 0 0 0 0 0 0 0 0 0 0 0 0 0 0 0 0 0 0 0 0 0 0 0 0 0 0 0 0 0 0 0\n",
      " 0 0 0 0 0 0 0 0 0 0 0 0 0 0 0 0 0 0 0 0 0 0 0 0 0 0 1 1 1 1 1 1 1 1 1 1 1\n",
      " 1 1 1 1 1 1 1 1 1 1 1 1 1 1 1 1 1 1 1 1 1 1 1 1 1 1 1 1 1 1 1 1 1 1 1 1 1\n",
      " 1 1 1 1 1 1 1 1 1 1 1 1 1 1 1 1 1 1 1 1 1 1 1 1 1 1 1 1 1 1 1 1 1 1 1 1 1\n",
      " 1 1 1 1 1 1 1 1 1 1 1 1 1 1 1]\n",
      "(200,)\n"
     ]
    }
   ],
   "source": [
    "#Data Generator\n",
    "import numpy as np\n",
    "import kernel_cmsm\n",
    "X = []\n",
    "label = np.asarray([])\n",
    "np.random.seed(1)\n",
    "for i in range(100):\n",
    "    x = np.random.rand(1000, 1) * 5\n",
    "    x[0:100] += np.random.rand(100, 1) * 2\n",
    "    x = x / np.linalg.norm(x)\n",
    "    X.append(x)\n",
    "    \n",
    "for i in range(100):\n",
    "    x = np.random.rand(1000, 1) * 5\n",
    "    x[0:100] -= np.random.rand(100, 1) * 2\n",
    "    x = x / np.linalg.norm(x)\n",
    "    X.append(x)\n",
    "\n",
    "cp = kernel_cmsm.Utils()\n",
    "label = cp.create_label(100, 2)\n",
    "\n",
    "\n",
    "print(type(X))\n",
    "print(len(X))        \n",
    "print(X[0].shape)  \n",
    "print(label)\n",
    "print(label.shape)            "
   ]
  },
  {
   "cell_type": "code",
   "execution_count": 4,
   "metadata": {},
   "outputs": [
    {
     "name": "stdout",
     "output_type": "stream",
     "text": [
      "Start learning\n",
      "Done\n"
     ]
    }
   ],
   "source": [
    "# Learning the KGDS\n",
    "import kernel_cmsm\n",
    "\n",
    "n_subdim = 10\n",
    "n_sigma = np.sqrt(2)\n",
    "\n",
    "kcmsm = kernel_cmsm.KernelCMSM(n_subdim = n_subdim, n_sigma = n_sigma)\n",
    "print('Start learning')\n",
    "kcmsm.fit(X, label)\n",
    "print('Done')\n"
   ]
  },
  {
   "cell_type": "code",
   "execution_count": 5,
   "metadata": {
    "scrolled": true
   },
   "outputs": [
    {
     "name": "stdout",
     "output_type": "stream",
     "text": [
      "(1000, 200)\n"
     ]
    },
    {
     "data": {
      "image/png": "[encoded data removed]",
      "text/plain": [
       "<matplotlib.figure.Figure at 0x248c6e0ef60>"
      ]
     },
     "metadata": {},
     "output_type": "display_data"
    }
   ],
   "source": [
    "import matplotlib.pyplot as plt\n",
    "%matplotlib inline \n",
    "\n",
    "\n",
    "#Projected data must be included 2D-matrix\n",
    "data = np.hstack(X[:])\n",
    "print(data.shape)\n",
    "\n",
    "# GDS projection of each data\n",
    "prj_data = kcmsm.vectors_gds_projection(data)\n",
    "\n",
    "\n",
    "# plot projected data\n",
    "fig = plt.figure()\n",
    "ax = fig.add_subplot(1,1,1)\n",
    "\n",
    "ax.hist(prj_data[0, label == 0], bins=50, normed=True, color='red');\n",
    "ax.hist(prj_data[0, label == 1], bins=50, normed=True, color='blue');"
   ]
  }
 ],
 "metadata": {
  "kernelspec": {
   "display_name": "Python 3",
   "language": "python",
   "name": "python3"
  },
  "language_info": {
   "codemirror_mode": {
    "name": "ipython",
    "version": 3
   },
   "file_extension": ".py",
   "mimetype": "text/x-python",
   "name": "python",
   "nbconvert_exporter": "python",
   "pygments_lexer": "ipython3",
   "version": "3.6.2"
  }
 },
 "nbformat": 4,
 "nbformat_minor": 2
}
